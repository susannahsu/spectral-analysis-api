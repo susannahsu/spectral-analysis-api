{
 "cells": [
  {
   "cell_type": "markdown",
   "id": "fb26e0b2",
   "metadata": {},
   "source": [
    "# Core Functionalities Checklist\n",
    "- Includes data preprocessing (normalization, outlier removal, interpolation, redshift correction). DONE\n",
    "- Facilitates metadata extraction (identifiers, coordinates, chemical abundances, redshifts, or other fields requested by end-user). DONE...?\n",
    "- Alignment in wavelength for all the spectra across a predefined range, which might require interpolation."
   ]
  },
  {
   "cell_type": "markdown",
   "id": "b65da726",
   "metadata": {},
   "source": [
    "This notebook is meant to be a way for us to get on the same page in terms of project goals and strategy\n",
    "\n",
    "---\n",
    "\n",
    "## Focus\n",
    "The main goal of the software is to create a library that helps with astronomial research, SPECIFICALLY the classification between stars, galaxies and quasi-stellar objects (QSOs). To accomplish this, the library must interact with the Sloan Digital Sky Survery (SDSS) services, specifically their databases and APIs containing SPECTRAL data and related information.\n",
    "\n",
    "## PP Master Strategy\n",
    "1) SDSS services will be connected via astroquery.\n",
    "\n",
    "Software must accept an ADQL query as a string format, which is a modified version of SQL. While there are some caveats about its additions, what we really care about is how we can implement it into our software. Luckily, astroquery is capable of running ADQL queries.\n",
    "\n",
    "To my understanding, there seems to be two \"major\" types of searches done. \n",
    "One is your typical sql-like search:\n",
    "\n",
    "<code>query = \n",
    "        SELECT TOP 10\n",
    "            ra, dec, g, r\n",
    "        FROM\n",
    "            PhotoObj\n",
    "        WHERE\n",
    "            g > 18\n",
    "result = sdss.launch_job(query=query)\n",
    "result_table = result.get_results()</code>\n",
    "\n",
    "The other does a search based of location:\n",
    "\n",
    "<code>ra = 10.68458  # Example Right Ascension\n",
    "dec = 41.26917  # Example Declination\n",
    "search_radius = 0.1  # Example search radius in degrees\n",
    "target_coords = coords.SkyCoord(ra=ra, dec=dec, unit=(u.deg, u.deg))\n",
    "result_table = ConeSearch.query_region(target_coords, radius=search_radius)</code>\n",
    "\n",
    "2. In order to allow our searches to work, we need to understand the exact tables that are of interest to us in the SDSS (or at least the most relevant tables. Here's what I've dug up:\n",
    "\n",
    "a) <code> SpecObj </code> : contains the spectral data and classificiaton for observed objects. It includes information about the spectroscopic observations such as spectral features and classifications (star, galaxy, and QSO) derived from the spectra. Sounds like it also contains redshifting data. This is likely the most important table we need to care about. However, there's a few more that we might want to think about as well.\n",
    "\n",
    "b) <code> PhotoObj </code> : contains the photometric information for detected objects. It includes photometric data in multiple bands and may contain classification based on photometric data.\n",
    "\n",
    "c) <code> Galaxy </code> : focuses mostly on galaxy data but contains columns to distinguish galaxies and other objects.\n",
    "\n",
    "d) <code> Star </code> : focuses mostly on star data but contains columns that might be useful for classification.\n",
    "\n",
    "e) <code> CrossID </code> : the glue that holds all of this stuff together. Contains information that can be used to relate objects between different catelogs.\n",
    "\n",
    "\n",
    "3) At the bare minimum, I think we just need to bother with SpecObj.\n",
    "Some important parameters:\n",
    "\n",
    "<code>Redshift (z)</code>: Redshift is a fundamental parameter indicating the expansion of the universe or an object's relative velocity. It's crucial for estimating distances and studying cosmic evolution.\n",
    "\n",
    "<code>Plate, FiberID,MJD</code>: These columns identify the specific plate, fiber ID, and modified Julian date associated with the spectroscopic observation. They are often used to trace back to the original observation data.\n",
    "\n",
    "<code>Class</code>: The class column specifies the object's classification based on its spectrum. For quasars (QSOs), the class might be labeled as 'QSO'.\n",
    "\n",
    "<code>Subclass</code>: Some datasets might include a subclassification of objects. For QSOs, this might further detail the type of quasar (e.g., 'BROADLINE', 'NARROWLINE', etc.). I don't thin we need to bother with this.\n",
    "\n",
    "<code>Spectral Features</code>: Columns containing information about specific spectral features such as emission lines, absorption lines, or other characteristic spectral signatures\n",
    "\n",
    "\n",
    "# tl;dr\n",
    "1) Use astroquery to handle queries\n",
    "2) Look at SpecObj for all relevant parameters.\n",
    "3) Go crazy\n",
    "\n",
    "---"
   ]
  },
  {
   "cell_type": "markdown",
   "id": "8a048595",
   "metadata": {},
   "source": [
    "# Data Acquisition"
   ]
  },
  {
   "cell_type": "code",
   "execution_count": 1,
   "id": "10bc3326",
   "metadata": {},
   "outputs": [],
   "source": [
    "from astroquery.sdss import SDSS\n",
    "from astropy import coordinates as coords # query by coordinate\n",
    "from astroquery.vo_conesearch import ConeSearch  # cone search within an object\n",
    "from astropy import units as u\n",
    "\n",
    "import numpy as np\n",
    "import pandas as pd\n",
    "\n",
    "from sklearn.preprocessing import StandardScaler"
   ]
  },
  {
   "cell_type": "markdown",
   "id": "8888e5ba",
   "metadata": {},
   "source": [
    "First, let's figure out what the heck we're looking at in SpecObj."
   ]
  },
  {
   "cell_type": "code",
   "execution_count": 2,
   "id": "dc217fe4",
   "metadata": {},
   "outputs": [],
   "source": [
    "query = \"\"\"SELECT TOP 10 *\n",
    "FROM SpecObj\"\"\""
   ]
  },
  {
   "cell_type": "code",
   "execution_count": 3,
   "id": "8990baae",
   "metadata": {},
   "outputs": [
    {
     "name": "stdout",
     "output_type": "stream",
     "text": [
      "['specObjID', 'bestObjID', 'fluxObjID', 'targetObjID', 'plateID', 'sciencePrimary', 'sdssPrimary', 'legacyPrimary', 'seguePrimary', 'segue1Primary', 'segue2Primary', 'bossPrimary', 'bossSpecObjID', 'firstRelease', 'survey', 'instrument', 'programname', 'chunk', 'platerun', 'mjd', 'plate', 'fiberID', 'run1d', 'run2d', 'tile', 'designID', 'legacy_target1', 'legacy_target2', 'special_target1', 'special_target2', 'segue1_target1', 'segue1_target2', 'segue2_target1', 'segue2_target2', 'boss_target1', 'eboss_target0', 'eboss_target1', 'eboss_target2', 'eboss_target_id', 'ancillary_target1', 'ancillary_target2', 'thing_id_targeting', 'thing_id', 'primTarget', 'secTarget', 'spectrographID', 'sourceType', 'targetType', 'ra', 'dec', 'cx', 'cy', 'cz', 'xFocal', 'yFocal', 'lambdaEff', 'blueFiber', 'zOffset', 'z', 'zErr', 'zWarning', 'class', 'subClass', 'rChi2', 'DOF', 'rChi2Diff', 'z_noqso', 'zErr_noqso', 'zWarning_noqso', 'class_noqso', 'subClass_noqso', 'rChi2Diff_noqso', 'z_person', 'class_person', 'comments_person', 'tFile', 'tColumn_0', 'tColumn_1', 'tColumn_2', 'tColumn_3', 'tColumn_4', 'tColumn_5', 'tColumn_6', 'tColumn_7', 'tColumn_8', 'tColumn_9', 'nPoly', 'theta_0', 'theta_1', 'theta_2', 'theta_3', 'theta_4', 'theta_5', 'theta_6', 'theta_7', 'theta_8', 'theta_9', 'velDisp', 'velDispErr', 'velDispZ', 'velDispZErr', 'velDispChi2', 'velDispNPix', 'velDispDOF', 'waveMin', 'waveMax', 'wCoverage', 'snMedian_u', 'snMedian_g', 'snMedian_r', 'snMedian_i', 'snMedian_z', 'snMedian', 'chi68p', 'fracNSigma_1', 'fracNSigma_2', 'fracNSigma_3', 'fracNSigma_4', 'fracNSigma_5', 'fracNSigma_6', 'fracNSigma_7', 'fracNSigma_8', 'fracNSigma_9', 'fracNSigma_10', 'fracNSigHi_1', 'fracNSigHi_2', 'fracNSigHi_3', 'fracNSigHi_4', 'fracNSigHi_5', 'fracNSigHi_6', 'fracNSigHi_7', 'fracNSigHi_8', 'fracNSigHi_9', 'fracNSigHi_10', 'fracNSigLo_1', 'fracNSigLo_2', 'fracNSigLo_3', 'fracNSigLo_4', 'fracNSigLo_5', 'fracNSigLo_6', 'fracNSigLo_7', 'fracNSigLo_8', 'fracNSigLo_9', 'fracNSigLo_10', 'spectroFlux_u', 'spectroFlux_g', 'spectroFlux_r', 'spectroFlux_i', 'spectroFlux_z', 'spectroSynFlux_u', 'spectroSynFlux_g', 'spectroSynFlux_r', 'spectroSynFlux_i', 'spectroSynFlux_z', 'spectroFluxIvar_u', 'spectroFluxIvar_g', 'spectroFluxIvar_r', 'spectroFluxIvar_i', 'spectroFluxIvar_z', 'spectroSynFluxIvar_u', 'spectroSynFluxIvar_g', 'spectroSynFluxIvar_r', 'spectroSynFluxIvar_i', 'spectroSynFluxIvar_z', 'spectroSkyFlux_u', 'spectroSkyFlux_g', 'spectroSkyFlux_r', 'spectroSkyFlux_i', 'spectroSkyFlux_z', 'anyAndMask', 'anyOrMask', 'plateSN2', 'deredSN2', 'snTurnoff', 'sn1_g', 'sn1_r', 'sn1_i', 'sn2_g', 'sn2_r', 'sn2_i', 'elodieFileName', 'elodieObject', 'elodieSpType', 'elodieBV', 'elodieTEff', 'elodieLogG', 'elodieFeH', 'elodieZ', 'elodieZErr', 'elodieZModelErr', 'elodieRChi2', 'elodieDOF', 'htmID', 'loadVersion', 'img']\n"
     ]
    },
    {
     "name": "stderr",
     "output_type": "stream",
     "text": [
      "/home/joon628/miniconda3/lib/python3.9/site-packages/numpy/lib/_iotools.py:680: RuntimeWarning: overflow encountered in conversion from string\n",
      "  new_value = self.func(value)\n",
      "/home/joon628/miniconda3/lib/python3.9/site-packages/numpy/lib/_iotools.py:672: RuntimeWarning: overflow encountered in conversion from string\n",
      "  return self.func(value)\n",
      "/home/joon628/miniconda3/lib/python3.9/site-packages/astroquery/sdss/core.py:874: VisibleDeprecationWarning: Reading unicode strings without specifying the encoding argument is deprecated. Set the encoding, use None for the system default.\n",
      "  arr = np.atleast_1d(np.genfromtxt(io.BytesIO(response.content),\n"
     ]
    }
   ],
   "source": [
    "table = SDSS.query_sql(query)\n",
    "spec_obj_cols = list(table.columns.keys())\n",
    "print(spec_obj_cols)"
   ]
  },
  {
   "cell_type": "markdown",
   "id": "bb95502c",
   "metadata": {},
   "source": [
    "---\n",
    "\n",
    "\n",
    "<code>SpecObjID</code>: Unique identifier for a spectrum observation.\n",
    "\n",
    "<code>bestObjID, fluxObjID, targetObjID</code>: Different identifiers for objects used across different contexts in SDSS.\n",
    "\n",
    "<code>plateID, run1d, run2d, mjd</code>: Information related to the spectroscopic plate, run, and modified Julian date associated with the observation.\n",
    "\n",
    "<code>fiberID, spectrographID</code>: Identifiers associated with the fiber and spectrograph used for the observation.\n",
    "\n",
    "<code>ra, dec, cx, cy, cz, xFocal, yFocal</code>: Coordinates and focal plane information related to the observed object.\n",
    "\n",
    "<code>z, zErr, zWarning</code>: Redshift-related values, errors, and warnings associated with redshift estimation.\n",
    "\n",
    "<code>class, subClass</code>: Classification and subclassification of objects based on their spectra.\n",
    "\n",
    "<code>instrument, programname, survey</code>: Information about the survey, instrument used, and program name.\n",
    "\n",
    "<code>special_target1, special_target2, legacy_target1, legacy_target2</code>: Target flags or identifiers used for specific selections or classifications.\n",
    "\n",
    "<code>snMedian_u, snMedian_g, snMedian_r, snMedian_i, snMedian_z</code>: Median signal-to-noise ratio (SNR) in different photometric bands.\n",
    "\n",
    "<code>spectroFlux_u, spectroFlux_g, spectroFlux_r, spectroFlux_i, spectroFlux_z</code>: Spectroscopic flux in different photometric bands.\n",
    "\n",
    "<code>anyAndMask, anyOrMask</code>: Bitmasks indicating any and all flags for specific conditions.\n",
    "\n",
    "---"
   ]
  },
  {
   "cell_type": "markdown",
   "id": "0f70e769",
   "metadata": {},
   "source": [
    "Now, let's do a basic query to faciliate data preprocessing (normalization, outlier removal, interpolation, redshift correction) and some exploratory data analysis."
   ]
  },
  {
   "cell_type": "code",
   "execution_count": 4,
   "id": "6b3df779",
   "metadata": {},
   "outputs": [],
   "source": [
    "#tables from astroquery have units, which kind of mess with dataframes a lot, so let's just ditch em\n",
    "def ditch_units(df):    \n",
    "    for column in df.columns:\n",
    "        if isinstance(df[column][0], u.quantity.Quantity):\n",
    "            df[column] = df[column].apply(lambda x: x.value)\n",
    "    return df"
   ]
  },
  {
   "cell_type": "code",
   "execution_count": 107,
   "id": "a2a6fa5c",
   "metadata": {},
   "outputs": [],
   "source": [
    "def query_to_df(query):\n",
    "    table = SDSS.query_sql(query, data_release=17)\n",
    "    df = table.to_pandas()\n",
    "    df= ditch_units(df)\n",
    "    return df"
   ]
  },
  {
   "cell_type": "code",
   "execution_count": 115,
   "id": "05087f28",
   "metadata": {},
   "outputs": [],
   "source": [
    "query = \"\"\"\n",
    "    SELECT TOP 1 *\n",
    " FROM SpecObj WHERE firstRelease = 'dr17' AND class = 'STAR'\n",
    "\"\"\""
   ]
  },
  {
   "cell_type": "code",
   "execution_count": 116,
   "id": "2dd4d5b4",
   "metadata": {},
   "outputs": [
    {
     "name": "stderr",
     "output_type": "stream",
     "text": [
      "/home/joon628/miniconda3/lib/python3.9/site-packages/numpy/lib/_iotools.py:680: RuntimeWarning: overflow encountered in conversion from string\n",
      "  new_value = self.func(value)\n",
      "/home/joon628/miniconda3/lib/python3.9/site-packages/numpy/lib/_iotools.py:672: RuntimeWarning: overflow encountered in conversion from string\n",
      "  return self.func(value)\n",
      "/home/joon628/miniconda3/lib/python3.9/site-packages/astroquery/sdss/core.py:874: VisibleDeprecationWarning: Reading unicode strings without specifying the encoding argument is deprecated. Set the encoding, use None for the system default.\n",
      "  arr = np.atleast_1d(np.genfromtxt(io.BytesIO(response.content),\n"
     ]
    }
   ],
   "source": [
    "df = query_to_df(query)"
   ]
  },
  {
   "cell_type": "code",
   "execution_count": 117,
   "id": "8bdf3dee",
   "metadata": {},
   "outputs": [
    {
     "data": {
      "text/plain": [
       "array([b'STAR'], dtype=object)"
      ]
     },
     "execution_count": 117,
     "metadata": {},
     "output_type": "execute_result"
    }
   ],
   "source": [
    "df['class'].unique() #we can see that there's only three classes"
   ]
  },
  {
   "cell_type": "code",
   "execution_count": 119,
   "id": "22200fff",
   "metadata": {},
   "outputs": [
    {
     "data": {
      "text/html": [
       "<div>\n",
       "<style scoped>\n",
       "    .dataframe tbody tr th:only-of-type {\n",
       "        vertical-align: middle;\n",
       "    }\n",
       "\n",
       "    .dataframe tbody tr th {\n",
       "        vertical-align: top;\n",
       "    }\n",
       "\n",
       "    .dataframe thead th {\n",
       "        text-align: right;\n",
       "    }\n",
       "</style>\n",
       "<table border=\"1\" class=\"dataframe\">\n",
       "  <thead>\n",
       "    <tr style=\"text-align: right;\">\n",
       "      <th></th>\n",
       "      <th>specObjID</th>\n",
       "      <th>plate</th>\n",
       "      <th>mjd</th>\n",
       "      <th>fiberID</th>\n",
       "      <th>firstRelease</th>\n",
       "    </tr>\n",
       "  </thead>\n",
       "  <tbody>\n",
       "    <tr>\n",
       "      <th>0</th>\n",
       "      <td>7220539695150946304</td>\n",
       "      <td>6413</td>\n",
       "      <td>56336</td>\n",
       "      <td>522</td>\n",
       "      <td>b'dr17'</td>\n",
       "    </tr>\n",
       "  </tbody>\n",
       "</table>\n",
       "</div>"
      ],
      "text/plain": [
       "             specObjID  plate    mjd  fiberID firstRelease\n",
       "0  7220539695150946304   6413  56336      522      b'dr17'"
      ]
     },
     "execution_count": 119,
     "metadata": {},
     "output_type": "execute_result"
    }
   ],
   "source": [
    "df[['specObjID', 'plate', 'mjd', 'fiberID', 'firstRelease']]"
   ]
  },
  {
   "cell_type": "markdown",
   "id": "1a1c2644",
   "metadata": {},
   "source": [
    "Redshift correction seems to be really complicated. I think we're supposed to abuse packages. It seems like any type of cosmological calculation can be done using <code>astropy</code>. So let's use astropy!"
   ]
  },
  {
   "cell_type": "code",
   "execution_count": 10,
   "id": "aca1e9cb",
   "metadata": {},
   "outputs": [],
   "source": [
    "from astropy.cosmology import FlatLambdaCDM # we are assuming the simplest cosmological mode"
   ]
  },
  {
   "cell_type": "code",
   "execution_count": 11,
   "id": "2c756313",
   "metadata": {},
   "outputs": [],
   "source": [
    "#galaxy brain redshift correction using the simplest cosmological model\n",
    "def apply_redshift_correction(redshift_values, **kwargs):\n",
    "    cosmo = FlatLambdaCDM(**kwargs)\n",
    "    distances = cosmo.comoving_distance(redshift_values).to(u.Mpc)\n",
    "    return distances"
   ]
  },
  {
   "cell_type": "code",
   "execution_count": 12,
   "id": "323b3511",
   "metadata": {},
   "outputs": [],
   "source": [
    "distances_corrected = apply_redshift_correction(df['z'], H0=72, Om0=0.28)\n",
    "df['z_corrected'] = distances_corrected\n",
    "df = ditch_units(df)"
   ]
  },
  {
   "cell_type": "code",
   "execution_count": 13,
   "id": "c5bd4d8d",
   "metadata": {},
   "outputs": [
    {
     "data": {
      "text/html": [
       "<div>\n",
       "<style scoped>\n",
       "    .dataframe tbody tr th:only-of-type {\n",
       "        vertical-align: middle;\n",
       "    }\n",
       "\n",
       "    .dataframe tbody tr th {\n",
       "        vertical-align: top;\n",
       "    }\n",
       "\n",
       "    .dataframe thead th {\n",
       "        text-align: right;\n",
       "    }\n",
       "</style>\n",
       "<table border=\"1\" class=\"dataframe\">\n",
       "  <thead>\n",
       "    <tr style=\"text-align: right;\">\n",
       "      <th></th>\n",
       "      <th>specObjID</th>\n",
       "      <th>ra</th>\n",
       "      <th>dec</th>\n",
       "      <th>z</th>\n",
       "      <th>class</th>\n",
       "      <th>plate</th>\n",
       "      <th>fiberID</th>\n",
       "      <th>mjd</th>\n",
       "      <th>z_corrected</th>\n",
       "    </tr>\n",
       "  </thead>\n",
       "  <tbody>\n",
       "    <tr>\n",
       "      <th>0</th>\n",
       "      <td>7048316320836722688</td>\n",
       "      <td>15.988656</td>\n",
       "      <td>31.121303</td>\n",
       "      <td>0.475454</td>\n",
       "      <td>b'GALAXY'</td>\n",
       "      <td>6260</td>\n",
       "      <td>665</td>\n",
       "      <td>56568</td>\n",
       "      <td>1769.312326</td>\n",
       "    </tr>\n",
       "    <tr>\n",
       "      <th>1</th>\n",
       "      <td>7423108218786652160</td>\n",
       "      <td>15.985467</td>\n",
       "      <td>31.107748</td>\n",
       "      <td>0.285623</td>\n",
       "      <td>b'GALAXY'</td>\n",
       "      <td>6593</td>\n",
       "      <td>182</td>\n",
       "      <td>56270</td>\n",
       "      <td>1114.318873</td>\n",
       "    </tr>\n",
       "    <tr>\n",
       "      <th>2</th>\n",
       "      <td>7423103270984327168</td>\n",
       "      <td>16.161876</td>\n",
       "      <td>31.118433</td>\n",
       "      <td>-0.000122</td>\n",
       "      <td>b'STAR'</td>\n",
       "      <td>6593</td>\n",
       "      <td>164</td>\n",
       "      <td>56270</td>\n",
       "      <td>-0.509461</td>\n",
       "    </tr>\n",
       "    <tr>\n",
       "      <th>3</th>\n",
       "      <td>7048316870592536576</td>\n",
       "      <td>16.040245</td>\n",
       "      <td>31.105689</td>\n",
       "      <td>0.348952</td>\n",
       "      <td>b'GALAXY'</td>\n",
       "      <td>6260</td>\n",
       "      <td>667</td>\n",
       "      <td>56568</td>\n",
       "      <td>1340.429785</td>\n",
       "    </tr>\n",
       "    <tr>\n",
       "      <th>4</th>\n",
       "      <td>7423103545862234112</td>\n",
       "      <td>16.055123</td>\n",
       "      <td>31.114574</td>\n",
       "      <td>0.472915</td>\n",
       "      <td>b'GALAXY'</td>\n",
       "      <td>6593</td>\n",
       "      <td>165</td>\n",
       "      <td>56270</td>\n",
       "      <td>1760.999035</td>\n",
       "    </tr>\n",
       "  </tbody>\n",
       "</table>\n",
       "</div>"
      ],
      "text/plain": [
       "             specObjID         ra        dec         z      class  plate  \\\n",
       "0  7048316320836722688  15.988656  31.121303  0.475454  b'GALAXY'   6260   \n",
       "1  7423108218786652160  15.985467  31.107748  0.285623  b'GALAXY'   6593   \n",
       "2  7423103270984327168  16.161876  31.118433 -0.000122    b'STAR'   6593   \n",
       "3  7048316870592536576  16.040245  31.105689  0.348952  b'GALAXY'   6260   \n",
       "4  7423103545862234112  16.055123  31.114574  0.472915  b'GALAXY'   6593   \n",
       "\n",
       "   fiberID    mjd  z_corrected  \n",
       "0      665  56568  1769.312326  \n",
       "1      182  56270  1114.318873  \n",
       "2      164  56270    -0.509461  \n",
       "3      667  56568  1340.429785  \n",
       "4      165  56270  1760.999035  "
      ]
     },
     "execution_count": 13,
     "metadata": {},
     "output_type": "execute_result"
    }
   ],
   "source": [
    "df.head()"
   ]
  },
  {
   "cell_type": "markdown",
   "id": "f902a45b",
   "metadata": {},
   "source": [
    "---"
   ]
  },
  {
   "cell_type": "code",
   "execution_count": 14,
   "id": "69407755",
   "metadata": {},
   "outputs": [],
   "source": [
    "#normalizes only the numerical value columns\n",
    "def normalize(df, id_included=True, id_name = 'ObjID'):\n",
    "    numerical_cols = df.select_dtypes(include=['number']).columns\n",
    "    \n",
    "    #we don't want to normalize the object IDs\n",
    "    if id_included:\n",
    "        col_norm = [col for col in numerical_cols if (id_name.casefold() not in col.casefold())]\n",
    "    else:\n",
    "        col_norm = numerical_cols\n",
    "        \n",
    "    scaler = StandardScaler()\n",
    "    df[col_norm] = scaler.fit_transform(df[col_norm])\n",
    "    return df"
   ]
  },
  {
   "cell_type": "code",
   "execution_count": 15,
   "id": "32325c35",
   "metadata": {},
   "outputs": [],
   "source": [
    "#removes outliers using Z-score stuff\n",
    "def remove_outliers(df, threshold = 3, id_included=True, id_name = 'ObjID'):\n",
    "    numerical_cols = df.select_dtypes(include=['number']).columns\n",
    "    \n",
    "    #we don't want to calculate Z-scores for the object IDs\n",
    "    if id_included:\n",
    "        col_rm = [col for col in numerical_cols if (id_name.casefold() not in col.casefold())]\n",
    "    else:\n",
    "        col_rm = numerical_cols\n",
    "    \n",
    "    z_scores = (df[col_rm] - df[col_rm].mean()) / df[col_rm].std()\n",
    "    outliers = (z_scores > threshold).any(axis=1)\n",
    "    df = df[~outliers]\n",
    "    return df"
   ]
  },
  {
   "cell_type": "code",
   "execution_count": 16,
   "id": "0e7a005a",
   "metadata": {},
   "outputs": [],
   "source": [
    "#simple way to fill in missing numerical values\n",
    "from sklearn.impute import SimpleImputer\n",
    "def impute(df, id_included=True, id_name = 'ObjID'): \n",
    "    numerical_cols = df.select_dtypes(include=['number']).columns\n",
    "\n",
    "    if id_included:\n",
    "        numerical_cols = [col for col in numerical_cols if (id_name.casefold() not in col.casefold())]\n",
    "    else:\n",
    "        numerical_cols = numerical_cols\n",
    "        \n",
    "    imputer = KNNImputer(n_neighbors=n_neighbors)\n",
    "    df[numerical_cols] = imputer.fit_transform(df[numerical_cols])\n",
    "    \n",
    "    return df"
   ]
  },
  {
   "cell_type": "code",
   "execution_count": 17,
   "id": "402e188a",
   "metadata": {},
   "outputs": [],
   "source": [
    "#randomly remove values from a dataframe so we can test imputation\n",
    "def remove_values(df, missing_ratio=0.3):\n",
    "    random_cells = np.random.choice(df.index, size=int(len(df) * missing_ratio), replace=False)\n",
    "    random_columns = np.random.choice(df.columns, size=int(len(df.columns) * missing_ratio), replace=False)\n",
    "    for idx in random_cells:\n",
    "        df.loc[idx, random_columns] = np.nan\n",
    "    return df\n"
   ]
  },
  {
   "cell_type": "code",
   "execution_count": 18,
   "id": "3b00006b",
   "metadata": {},
   "outputs": [
    {
     "name": "stdout",
     "output_type": "stream",
     "text": [
      "(100, 9)\n"
     ]
    },
    {
     "data": {
      "text/html": [
       "<div>\n",
       "<style scoped>\n",
       "    .dataframe tbody tr th:only-of-type {\n",
       "        vertical-align: middle;\n",
       "    }\n",
       "\n",
       "    .dataframe tbody tr th {\n",
       "        vertical-align: top;\n",
       "    }\n",
       "\n",
       "    .dataframe thead th {\n",
       "        text-align: right;\n",
       "    }\n",
       "</style>\n",
       "<table border=\"1\" class=\"dataframe\">\n",
       "  <thead>\n",
       "    <tr style=\"text-align: right;\">\n",
       "      <th></th>\n",
       "      <th>specObjID</th>\n",
       "      <th>ra</th>\n",
       "      <th>dec</th>\n",
       "      <th>z</th>\n",
       "      <th>class</th>\n",
       "      <th>plate</th>\n",
       "      <th>fiberID</th>\n",
       "      <th>mjd</th>\n",
       "      <th>z_corrected</th>\n",
       "    </tr>\n",
       "  </thead>\n",
       "  <tbody>\n",
       "    <tr>\n",
       "      <th>0</th>\n",
       "      <td>7048316320836722688</td>\n",
       "      <td>-1.789812</td>\n",
       "      <td>1.726068</td>\n",
       "      <td>-0.106343</td>\n",
       "      <td>b'GALAXY'</td>\n",
       "      <td>-0.288028</td>\n",
       "      <td>-0.118412</td>\n",
       "      <td>0.868454</td>\n",
       "      <td>0.048860</td>\n",
       "    </tr>\n",
       "    <tr>\n",
       "      <th>1</th>\n",
       "      <td>7423108218786652160</td>\n",
       "      <td>-1.794078</td>\n",
       "      <td>1.587154</td>\n",
       "      <td>-0.369858</td>\n",
       "      <td>b'GALAXY'</td>\n",
       "      <td>3.644453</td>\n",
       "      <td>-2.260480</td>\n",
       "      <td>-1.203598</td>\n",
       "      <td>-0.380867</td>\n",
       "    </tr>\n",
       "    <tr>\n",
       "      <th>2</th>\n",
       "      <td>7423103270984327168</td>\n",
       "      <td>-1.558112</td>\n",
       "      <td>1.696655</td>\n",
       "      <td>-0.766519</td>\n",
       "      <td>b'STAR'</td>\n",
       "      <td>3.644453</td>\n",
       "      <td>-2.340309</td>\n",
       "      <td>-1.203598</td>\n",
       "      <td>-1.112283</td>\n",
       "    </tr>\n",
       "    <tr>\n",
       "      <th>3</th>\n",
       "      <td>7048316870592536576</td>\n",
       "      <td>-1.720806</td>\n",
       "      <td>1.566053</td>\n",
       "      <td>-0.281947</td>\n",
       "      <td>b'GALAXY'</td>\n",
       "      <td>-0.288028</td>\n",
       "      <td>-0.109543</td>\n",
       "      <td>0.868454</td>\n",
       "      <td>-0.232521</td>\n",
       "    </tr>\n",
       "    <tr>\n",
       "      <th>4</th>\n",
       "      <td>7423103545862234112</td>\n",
       "      <td>-1.700905</td>\n",
       "      <td>1.657108</td>\n",
       "      <td>-0.109867</td>\n",
       "      <td>b'GALAXY'</td>\n",
       "      <td>3.644453</td>\n",
       "      <td>-2.335874</td>\n",
       "      <td>-1.203598</td>\n",
       "      <td>0.043406</td>\n",
       "    </tr>\n",
       "  </tbody>\n",
       "</table>\n",
       "</div>"
      ],
      "text/plain": [
       "             specObjID        ra       dec         z      class     plate  \\\n",
       "0  7048316320836722688 -1.789812  1.726068 -0.106343  b'GALAXY' -0.288028   \n",
       "1  7423108218786652160 -1.794078  1.587154 -0.369858  b'GALAXY'  3.644453   \n",
       "2  7423103270984327168 -1.558112  1.696655 -0.766519    b'STAR'  3.644453   \n",
       "3  7048316870592536576 -1.720806  1.566053 -0.281947  b'GALAXY' -0.288028   \n",
       "4  7423103545862234112 -1.700905  1.657108 -0.109867  b'GALAXY'  3.644453   \n",
       "\n",
       "    fiberID       mjd  z_corrected  \n",
       "0 -0.118412  0.868454     0.048860  \n",
       "1 -2.260480 -1.203598    -0.380867  \n",
       "2 -2.340309 -1.203598    -1.112283  \n",
       "3 -0.109543  0.868454    -0.232521  \n",
       "4 -2.335874 -1.203598     0.043406  "
      ]
     },
     "execution_count": 18,
     "metadata": {},
     "output_type": "execute_result"
    }
   ],
   "source": [
    "df_norm = normalize(df)\n",
    "print(df_norm.shape)\n",
    "df_norm.head()\n"
   ]
  },
  {
   "cell_type": "code",
   "execution_count": 19,
   "id": "dcf786b8",
   "metadata": {},
   "outputs": [
    {
     "name": "stdout",
     "output_type": "stream",
     "text": [
      "(91, 9)\n"
     ]
    },
    {
     "data": {
      "text/html": [
       "<div>\n",
       "<style scoped>\n",
       "    .dataframe tbody tr th:only-of-type {\n",
       "        vertical-align: middle;\n",
       "    }\n",
       "\n",
       "    .dataframe tbody tr th {\n",
       "        vertical-align: top;\n",
       "    }\n",
       "\n",
       "    .dataframe thead th {\n",
       "        text-align: right;\n",
       "    }\n",
       "</style>\n",
       "<table border=\"1\" class=\"dataframe\">\n",
       "  <thead>\n",
       "    <tr style=\"text-align: right;\">\n",
       "      <th></th>\n",
       "      <th>specObjID</th>\n",
       "      <th>ra</th>\n",
       "      <th>dec</th>\n",
       "      <th>z</th>\n",
       "      <th>class</th>\n",
       "      <th>plate</th>\n",
       "      <th>fiberID</th>\n",
       "      <th>mjd</th>\n",
       "      <th>z_corrected</th>\n",
       "    </tr>\n",
       "  </thead>\n",
       "  <tbody>\n",
       "    <tr>\n",
       "      <th>0</th>\n",
       "      <td>7048316320836722688</td>\n",
       "      <td>-1.789812</td>\n",
       "      <td>1.726068</td>\n",
       "      <td>-0.106343</td>\n",
       "      <td>b'GALAXY'</td>\n",
       "      <td>-0.288028</td>\n",
       "      <td>-0.118412</td>\n",
       "      <td>0.868454</td>\n",
       "      <td>0.048860</td>\n",
       "    </tr>\n",
       "    <tr>\n",
       "      <th>3</th>\n",
       "      <td>7048316870592536576</td>\n",
       "      <td>-1.720806</td>\n",
       "      <td>1.566053</td>\n",
       "      <td>-0.281947</td>\n",
       "      <td>b'GALAXY'</td>\n",
       "      <td>-0.288028</td>\n",
       "      <td>-0.109543</td>\n",
       "      <td>0.868454</td>\n",
       "      <td>-0.232521</td>\n",
       "    </tr>\n",
       "    <tr>\n",
       "      <th>5</th>\n",
       "      <td>7048317970104164352</td>\n",
       "      <td>-1.786475</td>\n",
       "      <td>1.388709</td>\n",
       "      <td>-0.107868</td>\n",
       "      <td>b'GALAXY'</td>\n",
       "      <td>-0.288028</td>\n",
       "      <td>-0.091803</td>\n",
       "      <td>0.868454</td>\n",
       "      <td>0.046501</td>\n",
       "    </tr>\n",
       "    <tr>\n",
       "      <th>9</th>\n",
       "      <td>7048327041075093504</td>\n",
       "      <td>-1.352405</td>\n",
       "      <td>1.270712</td>\n",
       "      <td>-0.516315</td>\n",
       "      <td>b'GALAXY'</td>\n",
       "      <td>-0.288028</td>\n",
       "      <td>0.054550</td>\n",
       "      <td>0.868454</td>\n",
       "      <td>-0.639197</td>\n",
       "    </tr>\n",
       "    <tr>\n",
       "      <th>11</th>\n",
       "      <td>7048327315953000448</td>\n",
       "      <td>-1.545440</td>\n",
       "      <td>1.195972</td>\n",
       "      <td>1.752621</td>\n",
       "      <td>b'QSO'</td>\n",
       "      <td>-0.288028</td>\n",
       "      <td>0.058984</td>\n",
       "      <td>0.868454</td>\n",
       "      <td>2.066903</td>\n",
       "    </tr>\n",
       "  </tbody>\n",
       "</table>\n",
       "</div>"
      ],
      "text/plain": [
       "              specObjID        ra       dec         z      class     plate  \\\n",
       "0   7048316320836722688 -1.789812  1.726068 -0.106343  b'GALAXY' -0.288028   \n",
       "3   7048316870592536576 -1.720806  1.566053 -0.281947  b'GALAXY' -0.288028   \n",
       "5   7048317970104164352 -1.786475  1.388709 -0.107868  b'GALAXY' -0.288028   \n",
       "9   7048327041075093504 -1.352405  1.270712 -0.516315  b'GALAXY' -0.288028   \n",
       "11  7048327315953000448 -1.545440  1.195972  1.752621     b'QSO' -0.288028   \n",
       "\n",
       "     fiberID       mjd  z_corrected  \n",
       "0  -0.118412  0.868454     0.048860  \n",
       "3  -0.109543  0.868454    -0.232521  \n",
       "5  -0.091803  0.868454     0.046501  \n",
       "9   0.054550  0.868454    -0.639197  \n",
       "11  0.058984  0.868454     2.066903  "
      ]
     },
     "execution_count": 19,
     "metadata": {},
     "output_type": "execute_result"
    }
   ],
   "source": [
    "df_norm_out = remove_outliers(df_norm)\n",
    "print(df_norm_out.shape)\n",
    "df_norm_out.head()"
   ]
  },
  {
   "cell_type": "code",
   "execution_count": 20,
   "id": "61a86268",
   "metadata": {},
   "outputs": [
    {
     "data": {
      "text/plain": [
       "['dec', 'z_corrected']"
      ]
     },
     "execution_count": 20,
     "metadata": {},
     "output_type": "execute_result"
    }
   ],
   "source": [
    "df2 = df.copy()\n",
    "df2 = remove_values(df2)\n",
    "df2.columns[df2.isnull().any()].tolist()"
   ]
  },
  {
   "cell_type": "code",
   "execution_count": 21,
   "id": "8f23a317",
   "metadata": {},
   "outputs": [
    {
     "ename": "NameError",
     "evalue": "name 'KNNImputer' is not defined",
     "output_type": "error",
     "traceback": [
      "\u001b[0;31m---------------------------------------------------------------------------\u001b[0m",
      "\u001b[0;31mNameError\u001b[0m                                 Traceback (most recent call last)",
      "\u001b[1;32m/home/joon628/Harvard_FA23/AC207/team35_2023/code/sdss_exploration.ipynb Cell 29\u001b[0m line \u001b[0;36m1\n\u001b[0;32m----> <a href='vscode-notebook-cell://wsl%2Bubuntu/home/joon628/Harvard_FA23/AC207/team35_2023/code/sdss_exploration.ipynb#X40sdnNjb2RlLXJlbW90ZQ%3D%3D?line=0'>1</a>\u001b[0m df2 \u001b[39m=\u001b[39m impute(df2)\n\u001b[1;32m      <a href='vscode-notebook-cell://wsl%2Bubuntu/home/joon628/Harvard_FA23/AC207/team35_2023/code/sdss_exploration.ipynb#X40sdnNjb2RlLXJlbW90ZQ%3D%3D?line=1'>2</a>\u001b[0m \u001b[39mprint\u001b[39m(df2\u001b[39m.\u001b[39mcolumns[df2\u001b[39m.\u001b[39misnull()\u001b[39m.\u001b[39many()]\u001b[39m.\u001b[39mtolist())\n\u001b[1;32m      <a href='vscode-notebook-cell://wsl%2Bubuntu/home/joon628/Harvard_FA23/AC207/team35_2023/code/sdss_exploration.ipynb#X40sdnNjb2RlLXJlbW90ZQ%3D%3D?line=2'>3</a>\u001b[0m df2\u001b[39m.\u001b[39mhead()\n",
      "\u001b[1;32m/home/joon628/Harvard_FA23/AC207/team35_2023/code/sdss_exploration.ipynb Cell 29\u001b[0m line \u001b[0;36m1\n\u001b[1;32m      <a href='vscode-notebook-cell://wsl%2Bubuntu/home/joon628/Harvard_FA23/AC207/team35_2023/code/sdss_exploration.ipynb#X40sdnNjb2RlLXJlbW90ZQ%3D%3D?line=7'>8</a>\u001b[0m \u001b[39melse\u001b[39;00m:\n\u001b[1;32m      <a href='vscode-notebook-cell://wsl%2Bubuntu/home/joon628/Harvard_FA23/AC207/team35_2023/code/sdss_exploration.ipynb#X40sdnNjb2RlLXJlbW90ZQ%3D%3D?line=8'>9</a>\u001b[0m     numerical_cols \u001b[39m=\u001b[39m numerical_cols\n\u001b[0;32m---> <a href='vscode-notebook-cell://wsl%2Bubuntu/home/joon628/Harvard_FA23/AC207/team35_2023/code/sdss_exploration.ipynb#X40sdnNjb2RlLXJlbW90ZQ%3D%3D?line=10'>11</a>\u001b[0m imputer \u001b[39m=\u001b[39m KNNImputer(n_neighbors\u001b[39m=\u001b[39mn_neighbors)\n\u001b[1;32m     <a href='vscode-notebook-cell://wsl%2Bubuntu/home/joon628/Harvard_FA23/AC207/team35_2023/code/sdss_exploration.ipynb#X40sdnNjb2RlLXJlbW90ZQ%3D%3D?line=11'>12</a>\u001b[0m df[numerical_cols] \u001b[39m=\u001b[39m imputer\u001b[39m.\u001b[39mfit_transform(df[numerical_cols])\n\u001b[1;32m     <a href='vscode-notebook-cell://wsl%2Bubuntu/home/joon628/Harvard_FA23/AC207/team35_2023/code/sdss_exploration.ipynb#X40sdnNjb2RlLXJlbW90ZQ%3D%3D?line=13'>14</a>\u001b[0m \u001b[39mreturn\u001b[39;00m df\n",
      "\u001b[0;31mNameError\u001b[0m: name 'KNNImputer' is not defined"
     ]
    }
   ],
   "source": [
    "df2 = impute(df2)\n",
    "print(df2.columns[df2.isnull().any()].tolist())\n",
    "df2.head()"
   ]
  },
  {
   "cell_type": "markdown",
   "id": "b4426d16",
   "metadata": {},
   "source": [
    "---\n",
    "\n",
    "## Spectral Stuff?\n",
    "Alignment in wavelength for all the spectra across a predefined range, which might require interpolation."
   ]
  },
  {
   "cell_type": "code",
   "execution_count": 120,
   "id": "c1c94459",
   "metadata": {},
   "outputs": [
    {
     "name": "stderr",
     "output_type": "stream",
     "text": [
      "/home/joon628/miniconda3/lib/python3.9/site-packages/astroquery/sdss/core.py:874: VisibleDeprecationWarning: Reading unicode strings without specifying the encoding argument is deprecated. Set the encoding, use None for the system default.\n",
      "  arr = np.atleast_1d(np.genfromtxt(io.BytesIO(response.content),\n"
     ]
    }
   ],
   "source": [
    "spec = SDSS.get_spectra(plate=6413, fiberID=590, mjd=56336)\n"
   ]
  },
  {
   "cell_type": "code",
   "execution_count": 150,
   "id": "4240ce79",
   "metadata": {},
   "outputs": [
    {
     "name": "stdout",
     "output_type": "stream",
     "text": [
      "['_EXCLUDE', '_MASK', '__class__', '__delattr__', '__dict__', '__dir__', '__doc__', '__eq__', '__format__', '__ge__', '__getattribute__', '__gt__', '__hash__', '__init__', '__init_subclass__', '__le__', '__lt__', '__module__', '__ne__', '__new__', '__reduce__', '__reduce_ex__', '__repr__', '__setattr__', '__sizeof__', '__str__', '__subclasshook__', '__weakref__', '_buffer', '_calculate_checksum', '_calculate_datasum', '_calculate_datasum_with_heap', '_char_encode', '_character_as_bytes', '_checksum', '_checksum_valid', '_clear_table_keywords', '_close', '_columns_type', '_compute_checksum', '_compute_hdu_checksum', '_data_loaded', '_data_needs_rescale', '_data_offset', '_data_replaced', '_data_size', '_data_type', '_datasum', '_datasum_valid', '_default_name', '_dump_coldefs', '_dump_data', '_encode_byte', '_ext_comment', '_extension', '_file', '_from_data', '_get_raw_data', '_get_tbdata', '_get_timestamp', '_has_data', '_hdu_registry', '_header', '_header_offset', '_header_str', '_init_tbdata', '_load_coldefs', '_load_data', '_load_variable_length_data', '_manages_own_heap', '_new', '_nrows', '_output_checksum', '_padding_byte', '_populate_table_keywords', '_postwriteto', '_prewriteto', '_readfrom_internal', '_standard', '_summary', '_tdump_file_format', '_theap', '_uint', '_update_checksum', '_update_column_added', '_update_column_attribute_changed', '_update_column_removed', '_update_load_data', '_update_pseudo_int_scale_keywords', '_verify', '_verify_checksum_datasum', '_writedata', '_writedata_by_row', '_writedata_direct_copy', '_writedata_internal', '_writeheader', '_writeto', '_writeto_internal', 'add_checksum', 'add_datasum', 'columns', 'copy', 'data', 'dump', 'filebytes', 'fileinfo', 'from_columns', 'fromstring', 'header', 'is_image', 'level', 'load', 'match_header', 'name', 'readfrom', 'register_hdu', 'req_cards', 'run_option', 'size', 'unregister_hdu', 'update', 'ver', 'verify', 'verify_checksum', 'verify_datasum', 'writeto']\n",
      "ColDefs(\n",
      "    name = 'PLATE'; format = 'J'\n",
      "    name = 'MJD'; format = 'J'\n",
      "    name = 'FIBERID'; format = 'J'\n",
      "    name = 'LINENAME'; format = '13A'\n",
      "    name = 'LINEWAVE'; format = 'D'\n",
      "    name = 'LINEZ'; format = 'E'\n",
      "    name = 'LINEZ_ERR'; format = 'E'\n",
      "    name = 'LINESIGMA'; format = 'E'\n",
      "    name = 'LINESIGMA_ERR'; format = 'E'\n",
      "    name = 'LINEAREA'; format = 'E'\n",
      "    name = 'LINEAREA_ERR'; format = 'E'\n",
      "    name = 'LINEEW'; format = 'E'\n",
      "    name = 'LINEEW_ERR'; format = 'E'\n",
      "    name = 'LINECONTLEVEL'; format = 'E'\n",
      "    name = 'LINECONTLEVEL_ERR'; format = 'E'\n",
      "    name = 'LINENPIXLEFT'; format = 'J'\n",
      "    name = 'LINENPIXRIGHT'; format = 'J'\n",
      "    name = 'LINEDOF'; format = 'E'\n",
      "    name = 'LINECHI2'; format = 'E'\n",
      ")\n",
      "['Ly_alpha' 'N_V 1240' 'C_IV 1549' 'He_II 1640' 'C_III] 1908' 'Mg_II 2799'\n",
      " '[O_II] 3725' '[O_II] 3727' '[Ne_III] 3868' 'H_zeta' '[Ne_III] 3970'\n",
      " 'H_epsilon' 'H_delta' 'H_gamma' '[O_III] 4363' 'He_II 4685' 'H_beta'\n",
      " '[O_III] 4959' '[O_III] 5007' 'He_II 5411' '[O_I] 5577' '[N_II] 5755'\n",
      " 'He_I 5876' '[O_I] 6300' '[S_III] 6312' '[O_I] 6363' '[N_II] 6548'\n",
      " 'H_alpha' '[N_II] 6583' '[S_II] 6716' '[S_II] 6730' '[Ar_III] 7135']\n"
     ]
    }
   ],
   "source": [
    "print(dir(spec[0][1]))\n",
    "print(spec[0][3].columns)\n",
    "print(spec[0][3].data['LINENAME'])"
   ]
  },
  {
   "cell_type": "markdown",
   "id": "f41a3070",
   "metadata": {},
   "source": [
    "## Etc."
   ]
  },
  {
   "cell_type": "code",
   "execution_count": null,
   "id": "15e40fda",
   "metadata": {},
   "outputs": [
    {
     "name": "stdout",
     "output_type": "stream",
     "text": [
      "       ra              dec        ...     specobjid      run2d\n",
      "---------------- ---------------- ... ------------------ -----\n",
      "2.02344596573482 14.8398237551311 ... 845594848269461504    26\n"
     ]
    }
   ],
   "source": [
    "# an example of using a not query to get some data.\n",
    "pos = coords.SkyCoord('0h8m05.63s +14d50m23.3s', frame='icrs')\n",
    "xid = SDSS.query_region(pos, radius='5 arcsec', spectro=True)\n",
    "print(xid)   "
   ]
  }
 ],
 "metadata": {
  "kernelspec": {
   "display_name": "Python 3 (ipykernel)",
   "language": "python",
   "name": "python3"
  },
  "language_info": {
   "codemirror_mode": {
    "name": "ipython",
    "version": 3
   },
   "file_extension": ".py",
   "mimetype": "text/x-python",
   "name": "python",
   "nbconvert_exporter": "python",
   "pygments_lexer": "ipython3",
   "version": "3.9.18"
  }
 },
 "nbformat": 4,
 "nbformat_minor": 5
}
